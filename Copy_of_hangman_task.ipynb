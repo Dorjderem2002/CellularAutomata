{
  "cells": [
    {
      "cell_type": "markdown",
      "metadata": {
        "id": "view-in-github",
        "colab_type": "text"
      },
      "source": [
        "<a href=\"https://colab.research.google.com/github/Dorjderem2002/CellularAutomata/blob/main/Copy_of_hangman_task.ipynb\" target=\"_parent\"><img src=\"https://colab.research.google.com/assets/colab-badge.svg\" alt=\"Open In Colab\"/></a>"
      ]
    },
    {
      "cell_type": "markdown",
      "metadata": {
        "id": "l7XsgJLkEPHX"
      },
      "source": [
        "# Language Modelling in Hangman"
      ]
    },
    {
      "cell_type": "markdown",
      "metadata": {
        "id": "Hr8zIZMEEPHa"
      },
      "source": [
        "## General info"
      ]
    },
    {
      "cell_type": "markdown",
      "metadata": {
        "id": "8qbM-s2UEPHa"
      },
      "source": [
        "<b>Materials</b>: See \"Using Jupyter Notebook and Python page\" on Canvas (under Modules>Resources) for information on the basic setup required for this class, including an iPython notebook viewer and the python packages NLTK, Numpy, Scipy, Matplotlib, Scikit-Learn, Gensim, Keras and Pytorch. We recommend installing all the data for NLTK, since you will need various parts of it to complete this assignment. You can also use any Python built-in packages, but do not use any other 3rd party packages (the packages listed above are all fine to use); if your iPython notebook doesn't run on the marker's machine, you will lose marks. <b> You should use Python 3.8</b>; libraries/packages should be in their latest version that is compatible with python3.8.  \n",
        "\n",
        "To familiarize yourself with NLTK, here is a free online book:  Steven Bird, Ewan Klein, and Edward Loper (2009). <a href=https://www.nltk.org/book/>Natural Language Processing with Python</a>. O'Reilly Media Inc. You may also consult the <a href=https://www.nltk.org/api/nltk.html>NLTK API</a>.\n",
        "\n",
        "<b>Evaluation</b>: Your iPython notebook should run end-to-end without any errors in a reasonable amount of time, and you must follow all instructions provided below, including specific implementation requirements and instructions for what needs to be printed (please avoid printing output we don't ask for). You should edit the sections below where requested, but leave the rest of the code as is. You should leave the output from running your code in the iPython notebook you submit, to assist with marking. The amount each question is worth is explicitly given.\n",
        "\n",
        "You will be marked not only on the correctness of your methods, but also the quality and efficency of your code: in particular, you should be careful to use Python built-in functions and operators when appropriate and pick descriptive variable names that adhere to <a href=\"https://www.python.org/dev/peps/pep-0008/\">Python style requirements</a>. If you think it might be unclear what you are doing, you should comment your code to help the marker make sense of it."
      ]
    },
    {
      "cell_type": "markdown",
      "metadata": {
        "id": "cC9wqG4zEPHb"
      },
      "source": [
        "# Overview\n",
        "\n",
        "You'll be creating an 'artificial intelligence' player for the classic Hangman word guessing game. You will need to implement several different automatic strategies based on character-level n-gram language models. Your objective is to create an automatic player which makes the fewest mistakes."
      ]
    },
    {
      "cell_type": "markdown",
      "metadata": {
        "id": "zj9jTlf3EPHc"
      },
      "source": [
        "# The Hangman Game (7 marks)"
      ]
    },
    {
      "cell_type": "markdown",
      "metadata": {
        "id": "aTUKy7LvEPHc"
      },
      "source": [
        "**Instructions**: The <a href=\"https://en.wikipedia.org/wiki/Hangman_(game)\">Hangman game</a> is a simple game whereby one person thinks of a word, which they keep secret from their opponent, who tries to guess the word one character at a time. The game ends when the opponent makes more than a fixed number of incorrect guesses, or they figure out the secret word before then (in which case they *win*).\n",
        "\n",
        "Here's a simple version of the game. **No implementation is needed.**"
      ]
    },
    {
      "cell_type": "code",
      "execution_count": null,
      "metadata": {
        "id": "_Y5c30EmEPHd"
      },
      "outputs": [],
      "source": [
        "def hangman(secret_word, guesser, max_mistakes=8, verbose=True, **guesser_args):\n",
        "    \"\"\"\n",
        "        This function plays the hangman game with the provided guesser and returns the number of incorrect guesses.\n",
        "\n",
        "        secret_word: a string of lower-case alphabetic characters, i.e., the answer to the game\n",
        "        guesser: a function which guesses the next character at each stage in the game\n",
        "            The function takes a:\n",
        "                mask: what is known of the word, as a string with _ denoting an unknown character\n",
        "                guessed: the set of characters which already been guessed in the game\n",
        "                guesser_args: additional (optional) keyword arguments, i.e., name=value\n",
        "        max_mistakes: limit on length of game, in terms of number of allowed mistakes\n",
        "        verbose: silent or verbose diagnostic prints\n",
        "        guesser_args: keyword arguments to pass directly to the guesser function\n",
        "    \"\"\"\n",
        "    secret_word = secret_word.lower()\n",
        "    mask = ['_'] * len(secret_word)\n",
        "    guessed = set()\n",
        "    if verbose:\n",
        "        print(\"Starting hangman game. Target is\", ' '.join(mask), 'length', len(secret_word))\n",
        "\n",
        "    mistakes = 0\n",
        "    while mistakes < max_mistakes:\n",
        "        if verbose:\n",
        "            print(\"You have\", (max_mistakes-mistakes), \"attempts remaining.\")\n",
        "        guess = guesser(mask, guessed, **guesser_args)\n",
        "\n",
        "        if verbose:\n",
        "            print('Guess is', guess)\n",
        "        if guess in guessed:\n",
        "            if verbose:\n",
        "                print('Already guessed this before.')\n",
        "            mistakes += 1\n",
        "        else:\n",
        "            guessed.add(guess)\n",
        "            if guess in secret_word and len(guess) == 1:\n",
        "                for i, c in enumerate(secret_word):\n",
        "                    if c == guess:\n",
        "                        mask[i] = c\n",
        "                if verbose:\n",
        "                    print('Good guess:', ' '.join(mask))\n",
        "            else:\n",
        "                if len(guess) != 1:\n",
        "                    print('Please guess with only 1 character.')\n",
        "                if verbose:\n",
        "                    print('Sorry, try again.')\n",
        "                mistakes += 1\n",
        "\n",
        "        if '_' not in mask:\n",
        "            if verbose:\n",
        "                print('Congratulations, you won.')\n",
        "            return mistakes\n",
        "\n",
        "    if verbose:\n",
        "        print('Out of guesses. The word was', secret_word)\n",
        "    return mistakes"
      ]
    },
    {
      "cell_type": "markdown",
      "metadata": {
        "id": "NbJa9TCeEPHe"
      },
      "source": [
        "Here is a human guesser allowing interactive play."
      ]
    },
    {
      "cell_type": "code",
      "execution_count": null,
      "metadata": {
        "id": "-dV6pexaEPHf"
      },
      "outputs": [],
      "source": [
        "def human(mask, guessed, **kwargs):\n",
        "    \"\"\"\n",
        "    This is a simple function for manual play.\n",
        "    \"\"\"\n",
        "    print('\\nEnter your guess:')\n",
        "    return input().lower().strip()"
      ]
    },
    {
      "cell_type": "markdown",
      "metadata": {
        "id": "Vn9K7MzUEPHf"
      },
      "source": [
        "If you want to play hangman interactively, please set `interactive` to `True`. When submitting your solution, set to `False` so we can automatically run the whole notebook using `Run All`."
      ]
    },
    {
      "cell_type": "code",
      "execution_count": null,
      "metadata": {
        "id": "y2zhs3vHEPHf"
      },
      "outputs": [],
      "source": [
        "interactive = False"
      ]
    },
    {
      "cell_type": "markdown",
      "metadata": {
        "id": "--kcgI-uEPHf"
      },
      "source": [
        "<b>For your testing:</b>\n",
        "\n",
        "You can play the game interactively using the following command:"
      ]
    },
    {
      "cell_type": "code",
      "execution_count": null,
      "metadata": {
        "id": "37HmPMe7EPHg"
      },
      "outputs": [],
      "source": [
        "if interactive:\n",
        "    hangman('whatever', human, 8, True)"
      ]
    },
    {
      "cell_type": "markdown",
      "metadata": {
        "collapsed": true,
        "jupyter": {
          "outputs_hidden": true
        },
        "id": "bd6XDkHWEPHg"
      },
      "source": [
        "### Question 1 (1.0 mark)\n",
        "\n",
        "**Instructions**: We will use the words in NLTK's Brown corpus for training an artificial intelligence guessing algorithm, and for evaluating the quality of the algorithm.\n",
        "\n",
        "Your first task is to compute the number of **unique word types** occurring in the Brown corpus, using `nltk.corpus.brown` and the `words` method, and select only words that are **entirely comprised of alphabetic characters**. You should also **lowercase the words**. Finally, randomly shuffle (`numpy.random.shuffle`) this collection of word types, and split them into disjoint training and testing sets. The test set should contain 1000 word types, and the rest should be in the  training set. Note that we are intentionally making the hangman game hard, as the AI will need to cope with test words that it has not seen before, hence it will need to learn generalisable patterns of characters to make reasonable predictions.\n",
        "\n",
        "**Task**: Collect all unique word types from the Brown corpus, and produce `training_set` and `test_set`, 2 lists that contain 2 disjointed sets of words. Both `training_set` and `test_set` should be a python `list` (as initialised in the code). `test_set` must contain exactly 1000 word types.\n",
        "\n",
        "**Check**: Use the assertion statements in <b>\"For your testing\"</b> below for the expected output."
      ]
    },
    {
      "cell_type": "code",
      "execution_count": null,
      "metadata": {
        "id": "qc5iIq3nEPHg"
      },
      "outputs": [],
      "source": [
        "import nltk\n",
        "from nltk.corpus import brown\n",
        "import numpy as np\n",
        "\n",
        "nltk.download('brown')\n",
        "np.random.seed(1)\n",
        "\n",
        "# training_set stores the rest word types for training\n",
        "training_set = []\n",
        "# test_set stores 1000 word types for testing\n",
        "test_set = []\n",
        "\n",
        "\n",
        "###\n",
        "# Your answer BEGINS HERE\n",
        "###\n",
        "\n",
        "###\n",
        "# Your answer ENDS HERE\n",
        "###\n",
        "\n",
        "print(\"Number of word types in test =\", len(test_set))\n",
        "print(\"Number of word types in train =\", len(training_set))"
      ]
    },
    {
      "cell_type": "markdown",
      "metadata": {
        "id": "wj-wFSROEPHg"
      },
      "source": [
        "<b>For your testing:</b>"
      ]
    },
    {
      "cell_type": "code",
      "execution_count": null,
      "metadata": {
        "id": "FZv-5k10EPHg"
      },
      "outputs": [],
      "source": [
        "assert(len(training_set) > 35000 and len(training_set) < 45000)\n",
        "assert(len(test_set) == 1000)"
      ]
    },
    {
      "cell_type": "markdown",
      "metadata": {
        "id": "92nefRa8EPHg"
      },
      "source": [
        "**Play the game**:\n",
        "\n",
        "Let's see how good you are at this game! Try to guess a random word from the test set. It is surprisingly difficult (and addictive)! Don't forget to set `interactive = True`."
      ]
    },
    {
      "cell_type": "code",
      "execution_count": null,
      "metadata": {
        "id": "gn_p8-OCEPHg",
        "outputId": "fd0f5de2-b784-4a37-bee5-eccbd13b2358",
        "colab": {
          "base_uri": "https://localhost:8080/",
          "height": 180
        }
      },
      "outputs": [
        {
          "output_type": "error",
          "ename": "NameError",
          "evalue": "name 'interactive' is not defined",
          "traceback": [
            "\u001b[0;31m---------------------------------------------------------------------------\u001b[0m",
            "\u001b[0;31mNameError\u001b[0m                                 Traceback (most recent call last)",
            "\u001b[0;32m<ipython-input-1-72bc26192c88>\u001b[0m in \u001b[0;36m<cell line: 2>\u001b[0;34m()\u001b[0m\n\u001b[1;32m      1\u001b[0m \u001b[0;31m#play hangman using random words from test set\u001b[0m\u001b[0;34m\u001b[0m\u001b[0;34m\u001b[0m\u001b[0m\n\u001b[0;32m----> 2\u001b[0;31m \u001b[0;32mif\u001b[0m \u001b[0minteractive\u001b[0m\u001b[0;34m:\u001b[0m\u001b[0;34m\u001b[0m\u001b[0;34m\u001b[0m\u001b[0m\n\u001b[0m\u001b[1;32m      3\u001b[0m     \u001b[0mhangman\u001b[0m\u001b[0;34m(\u001b[0m\u001b[0mnp\u001b[0m\u001b[0;34m.\u001b[0m\u001b[0mrandom\u001b[0m\u001b[0;34m.\u001b[0m\u001b[0mchoice\u001b[0m\u001b[0;34m(\u001b[0m\u001b[0mtest_set\u001b[0m\u001b[0;34m)\u001b[0m\u001b[0;34m,\u001b[0m \u001b[0mhuman\u001b[0m\u001b[0;34m,\u001b[0m \u001b[0;36m8\u001b[0m\u001b[0;34m,\u001b[0m \u001b[0;32mTrue\u001b[0m\u001b[0;34m)\u001b[0m\u001b[0;34m\u001b[0m\u001b[0;34m\u001b[0m\u001b[0m\n",
            "\u001b[0;31mNameError\u001b[0m: name 'interactive' is not defined"
          ]
        }
      ],
      "source": [
        "#play hangman using random words from test set\n",
        "if interactive:\n",
        "    hangman(np.random.choice(test_set), human, 8, True)"
      ]
    },
    {
      "cell_type": "markdown",
      "metadata": {
        "id": "1BGAirdiEPHg"
      },
      "source": [
        "### Question 2 (1.0 mark)\n",
        "\n",
        "**Instructions**: To set a baseline, your first AI attempt will be a trivial **random method**. For this you should implement a guessing method, similar to the `human` method above, i.e., using the same input arguments and returning a character. Your method should randomly choose a character from the range `a ... z` after excluding the characters that have already been guessed in the current game (all subsequent AI approaches should also exclude previous guesses).\n",
        "\n",
        "To help you measure the performance of this (and later) guesser, a `test_guesser` method that takes a guesser and measures the average number of incorrect guesses made over all the words in the `test` is provided to you.\n",
        "\n",
        "**Task**: Complete the `random_guesser` method. It should return a random character from the English alphabets.\n",
        "\n",
        "**Check**: Use the assertion statements in <b>\"For your testing\"</b> below for the expected output."
      ]
    },
    {
      "cell_type": "code",
      "execution_count": null,
      "metadata": {
        "id": "2mq2BROYEPHg"
      },
      "outputs": [],
      "source": [
        "def test_guesser(guesser, test):\n",
        "    \"\"\"\n",
        "        This function takes a guesser and measures the average number of incorrect guesses made over all the words in the test_set.\n",
        "    \"\"\"\n",
        "    total = 0\n",
        "    for word in test:\n",
        "        total += hangman(word, guesser, 26, False)\n",
        "    return total / float(len(test))"
      ]
    },
    {
      "cell_type": "code",
      "execution_count": null,
      "metadata": {
        "id": "SCyzLK0AEPHh"
      },
      "outputs": [],
      "source": [
        "def random_guesser(mask, guessed, **kwargs):\n",
        "\n",
        "    ###\n",
        "    # Your answer BEGINS HERE\n",
        "    ###\n",
        "\n",
        "    ###\n",
        "    # Your answer ENDS HERE\n",
        "    ###\n",
        "\n",
        "random_word = np.random.choice(test_set)\n",
        "print(\"Guessing word =\", random_word)\n",
        "print(\"Number of mistakes made by the random guesser =\", hangman(random_word, random_guesser, 26, False))\n",
        "\n",
        "result = test_guesser(random_guesser, test_set)\n",
        "print(\"\\nTesting the random guesser using every word in test set\")\n",
        "print(\"Average number of incorrect guesses: \", result)"
      ]
    },
    {
      "cell_type": "markdown",
      "metadata": {
        "id": "NX9wh8otEPHh"
      },
      "source": [
        "<b>For your testing:</b>"
      ]
    },
    {
      "cell_type": "code",
      "execution_count": null,
      "metadata": {
        "id": "i4hSBuV1EPHh"
      },
      "outputs": [],
      "source": [
        "assert(result > 10 and result < 20)"
      ]
    },
    {
      "cell_type": "markdown",
      "metadata": {
        "id": "CzXGOpeMEPHh"
      },
      "source": [
        "### Question 3 (1.0 mark)\n",
        "\n",
        "**Instructions:** As your first real AI, you should train a **unigram language model** over the training set. This requires you to find the frequencies of characters over all training words. Using this model, you should write a guesser that returns the character with the highest probability. Remember to exclude already guessed characters.\n",
        "\n",
        "**Task**: Collect the frequencies of characters and store them in `unigram_counts` (use the first answer space). Complete the `unigram_guesser` method (use the second answer space). Note that it takes `unigram_counts` as an additional argument.\n",
        "\n",
        "**Check**: Use the assertion statements in <b>\"For your testing\"</b> below for the expected output."
      ]
    },
    {
      "cell_type": "code",
      "execution_count": null,
      "metadata": {
        "id": "ZoucZJXeEPHh"
      },
      "outputs": [],
      "source": [
        "unigram_counts = None\n",
        "\n",
        "###\n",
        "# Your answer BEGINS HERE\n",
        "###\n",
        "\n",
        "###\n",
        "# Your answer ENDS HERE\n",
        "###\n",
        "\n",
        "def unigram_guesser(mask, guessed, unigram_counts=unigram_counts):\n",
        "\n",
        "    ###\n",
        "    # Your answer BEGINS HERE\n",
        "    ###\n",
        "\n",
        "    ###\n",
        "    # Your answer ENDS HERE\n",
        "    ###\n",
        "\n",
        "result = test_guesser(unigram_guesser, test_set)\n",
        "print(\"Testing the unigram guesser using every word in test set\")\n",
        "print(\"Average number of incorrect guesses: \", result)"
      ]
    },
    {
      "cell_type": "markdown",
      "metadata": {
        "id": "b0l9PfCZEPHh"
      },
      "source": [
        "<b>For your testing:</b>"
      ]
    },
    {
      "cell_type": "code",
      "execution_count": null,
      "metadata": {
        "id": "VEJZMUN6EPHh"
      },
      "outputs": [],
      "source": [
        "assert(result > 5 and result < 15)"
      ]
    },
    {
      "cell_type": "markdown",
      "metadata": {
        "id": "QkEhFA6YEPHh"
      },
      "source": [
        "### Question 4 (1.0 mark)\n",
        "\n",
        "**Instructions:** The length of the secret word is an important clue that we might exploit. Different lengths tend to have different distributions over characters, e.g., short words are less likely to have suffixes or prefixes. You should incorporate this idea by conditioning the unigram model on the length of the secret word, i.e.,  having a **different unigram model for each length**. You will need to be a little careful at test time, to be robust to the situation that you encounter a word length that you didn't see in training. In such a case, your method should behave like the previous `unigram_guesser` in Question 3 (i.e., it guesses characters based on unigram frequencies, unconditioned by the word length).\n",
        "\n",
        "**Task**: Collect the frequencies of characters conditioned on the word length and store them in `unigram_counts_by_length` (use the first answer space). Complete the `unigram_length_guesser` method (use the second answer space).\n",
        "\n",
        "**Check**: Use the assertion statements in <b>\"For your testing\"</b> below for the expected output."
      ]
    },
    {
      "cell_type": "code",
      "execution_count": null,
      "metadata": {
        "id": "xfm4532GEPHh"
      },
      "outputs": [],
      "source": [
        "unigram_counts_by_length = None\n",
        "\n",
        "###\n",
        "# Your answer BEGINS HERE\n",
        "###\n",
        "\n",
        "###\n",
        "# Your answer ENDS HERE\n",
        "###\n",
        "\n",
        "def unigram_length_guesser(mask, guessed, unigram_counts_by_length=unigram_counts_by_length, unigram_counts=unigram_counts):\n",
        "    ###\n",
        "    # Your answer BEGINS HERE\n",
        "    ###\n",
        "\n",
        "    ###\n",
        "    # Your answer ENDS HERE\n",
        "    ###\n",
        "\n",
        "result = test_guesser(unigram_length_guesser, test_set)\n",
        "print(\"Testing the length-conditioned unigram guesser using every word in test set\")\n",
        "print(\"Average number of incorrect guesses: \", result)"
      ]
    },
    {
      "cell_type": "markdown",
      "metadata": {
        "id": "fr_rgS4PEPHh"
      },
      "source": [
        "<b>For your testing:</b>"
      ]
    },
    {
      "cell_type": "code",
      "execution_count": null,
      "metadata": {
        "id": "rN06EteLEPHh"
      },
      "outputs": [],
      "source": [
        "assert(result > 5 and result < 15)"
      ]
    },
    {
      "cell_type": "markdown",
      "metadata": {
        "id": "NeroewqCEPHi"
      },
      "source": [
        "### Question 5 (1.0 mark)\n",
        "\n",
        "**Instructions:** Now for the next challenge, you'll build a **bigram language model** over characters. The order of characters is obviously important, yet this wasn't incorporated in any of the above models. Knowing that the word has the sequence `n _ s s` is a pretty strong clue that the missing character might be `e`. Similarly the distribution over characters that start or end a word are highly biased (e.g., toward common prefixes and suffixes, like *un-*, *-ed* and *-ly*).\n",
        "\n",
        "The task here is to develop a bigram language model over characters, and train it over the training words. Remember to be careful when handling the start of each word properly, e.g., by padding with a special starting symbol such as `$`. Do we also need a special ending symbol? That's for you to decide.\n",
        "\n",
        "Your bigram guesser should apply your language model to each blank position in the secret word by using its left context character. For example, in the partial word `e _ c _ b _ _` we know the left context for the first three blanks, but have no known left context for the last blank. In the case for the last blank, you should revert to using a unigram language model (since there's no context for us to use the bigram model). You should sum up the probability distribution (over all alphabets from <i>a</i> to <i>z</i>) for the 4 blanks, and select the alphabet with the highest probability that hasn't been guessed.\n",
        "\n",
        "**Note**:\n",
        "- When backing-off to the unigram language model, you **must use the vanilla unigram language model that you have built in Q3**. Do not use the length-based unigram language model, or any fancy variant, or you will lose marks.\n",
        "- You should build a **standard bigram language model**; i.e. do not do anything complicated like a bidirectional bigram language model.\n",
        "\n",
        "**Task**: Collect frequency counts that are necessary for building a bigram language model and store them in bigram_counts; feel free to add new objects if needed (use the first answer space). Complete the `bigram_guesser` method (use the second answer space). Note that the method currently only has one additional argument (`bigram_counts`), but you are free to add additional arguments."
      ]
    },
    {
      "cell_type": "code",
      "execution_count": null,
      "metadata": {
        "id": "-guKVWfuEPHi"
      },
      "outputs": [],
      "source": [
        "bigram_counts = None\n",
        "\n",
        "###\n",
        "# Your answer BEGINS HERE\n",
        "###\n",
        "\n",
        "###\n",
        "# Your answer ENDS HERE\n",
        "###\n",
        "\n",
        "\n",
        "def bigram_guesser(mask, guessed, bigram_counts=bigram_counts): # add extra arguments if needed\n",
        "    ###\n",
        "    # Your answer BEGINS HERE\n",
        "    ###\n",
        "\n",
        "    ###\n",
        "    # Your answer ENDS HERE\n",
        "    ###\n",
        "\n",
        "\n",
        "\n",
        "result = test_guesser(bigram_guesser, test_set)\n",
        "print(\"Testing the bigram guesser using every word in test set\")\n",
        "print(\"Average number of incorrect guesses: \", result)"
      ]
    },
    {
      "cell_type": "markdown",
      "metadata": {
        "id": "niwfJyleEPHi"
      },
      "source": [
        "### Question 6 (1.5 mark)\n",
        "\n",
        "**Instructions:** You should try to develop a more effective AI for hangman. Feel free to engage your creativity here! Possibilities include better conditioning on the length of the word, fancier smoothing methods, ngram models and bidirectional models (lecture 8). Have fun!\n",
        "\n",
        "You will be marked based on the performance of your AI model, using a pre-made training and test set (created using a secret seed). Let x be the average number of mistakes in the test set, you will score:\n",
        "* 1.5 mark if x < 7.6\n",
        "* 1.0 mark if 7.6 <= x < 8.0\n",
        "* 0.5 mark if 8.0 <= x < 8.5\n",
        "* 0.0 mark if x >= 8.5\n",
        "\n",
        "Note:\n",
        "* When testing your AI model's performance, you may want to consider trying different training/test splits (using different seeds) to have a better understanding of its _average_ performance, as there will be some variance to its performance depending on the training/test split.\n",
        "* Your code must run under 2 minutes on Codalab; program that runs longer than that will be terminated and you will score 0.\n",
        "\n",
        "**Task** Complete the `my_amazing_ai_guesser` method, which implements a better language model for hangman."
      ]
    },
    {
      "cell_type": "code",
      "execution_count": null,
      "metadata": {
        "id": "Rdv5eu52EPHi"
      },
      "outputs": [],
      "source": [
        "###\n",
        "# Your answer BEGINS HERE\n",
        "###\n",
        "\n",
        "def my_amazing_ai_guesser(mask, guessed):\n",
        "     return random_guesser(mask, guessed)\n",
        "\n",
        "###\n",
        "# Your answer ENDS HERE\n",
        "###\n",
        "\n",
        "result = test_guesser(my_amazing_ai_guesser, test_set)\n",
        "print(\"Testing my amazing AI guesser using every word in test set\")\n",
        "print(\"Average number of incorrect guesses: \", result)"
      ]
    }
  ],
  "metadata": {
    "anaconda-cloud": {},
    "kernelspec": {
      "display_name": "Python 3 (ipykernel)",
      "language": "python",
      "name": "python3"
    },
    "language_info": {
      "codemirror_mode": {
        "name": "ipython",
        "version": 3
      },
      "file_extension": ".py",
      "mimetype": "text/x-python",
      "name": "python",
      "nbconvert_exporter": "python",
      "pygments_lexer": "ipython3",
      "version": "3.12.3"
    },
    "colab": {
      "provenance": [],
      "include_colab_link": true
    }
  },
  "nbformat": 4,
  "nbformat_minor": 0
}